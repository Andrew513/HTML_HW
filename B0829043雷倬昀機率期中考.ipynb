{
  "nbformat": 4,
  "nbformat_minor": 0,
  "metadata": {
    "colab": {
      "name": "Untitled0.ipynb",
      "provenance": [],
      "authorship_tag": "ABX9TyPqWVfP5MS6MQxmTEiVaPgJ",
      "include_colab_link": true
    },
    "kernelspec": {
      "name": "python3",
      "display_name": "Python 3"
    },
    "language_info": {
      "name": "python"
    }
  },
  "cells": [
    {
      "cell_type": "markdown",
      "metadata": {
        "id": "view-in-github",
        "colab_type": "text"
      },
      "source": [
        "<a href=\"https://colab.research.google.com/github/Andrew513/HTML_HW.github.io/blob/master/B0829043%E9%9B%B7%E5%80%AC%E6%98%80%E6%A9%9F%E7%8E%87%E6%9C%9F%E4%B8%AD%E8%80%83.ipynb\" target=\"_parent\"><img src=\"https://colab.research.google.com/assets/colab-badge.svg\" alt=\"Open In Colab\"/></a>"
      ]
    },
    {
      "cell_type": "code",
      "metadata": {
        "id": "8RPnMti6xGuY"
      },
      "source": [
        "import numpy      as np\n",
        "import scipy.special  as sp\n",
        "import scipy.stats   as st\n",
        "import pandas      as pd\n",
        "import math\n",
        "\n",
        "\n",
        "n= 10 \n",
        "μ= 5\n",
        "σ= 2\n",
        "  "
      ],
      "execution_count": 1,
      "outputs": []
    },
    {
      "cell_type": "code",
      "metadata": {
        "colab": {
          "base_uri": "https://localhost:8080/"
        },
        "id": "oyeXNSi3xJWT",
        "outputId": "62be2008-0bf1-487d-ef0e-e7034feca5dc"
      },
      "source": [
        "#(1)\n",
        "print(μ)"
      ],
      "execution_count": 2,
      "outputs": [
        {
          "output_type": "stream",
          "text": [
            "5\n"
          ],
          "name": "stdout"
        }
      ]
    },
    {
      "cell_type": "code",
      "metadata": {
        "colab": {
          "base_uri": "https://localhost:8080/"
        },
        "id": "MxI24BLtxL74",
        "outputId": "3d465629-eb42-434e-f0c0-fbf63d5727f8"
      },
      "source": [
        "#(2)\n",
        "print(σ**2)"
      ],
      "execution_count": 3,
      "outputs": [
        {
          "output_type": "stream",
          "text": [
            "4\n"
          ],
          "name": "stdout"
        }
      ]
    },
    {
      "cell_type": "code",
      "metadata": {
        "colab": {
          "base_uri": "https://localhost:8080/"
        },
        "id": "tcatiSD_xNOA",
        "outputId": "5fafea29-c97b-416b-b2cb-0ef3293aca19"
      },
      "source": [
        "#(3)\n",
        "print(0)"
      ],
      "execution_count": 4,
      "outputs": [
        {
          "output_type": "stream",
          "text": [
            "0\n"
          ],
          "name": "stdout"
        }
      ]
    },
    {
      "cell_type": "code",
      "metadata": {
        "colab": {
          "base_uri": "https://localhost:8080/"
        },
        "id": "Fxaw57vRxOw8",
        "outputId": "5b376548-30ab-4667-cb95-fd9b46116401"
      },
      "source": [
        "#(4)\n",
        "print((σ**2)/n)"
      ],
      "execution_count": 5,
      "outputs": [
        {
          "output_type": "stream",
          "text": [
            "0.4\n"
          ],
          "name": "stdout"
        }
      ]
    },
    {
      "cell_type": "code",
      "metadata": {
        "colab": {
          "base_uri": "https://localhost:8080/"
        },
        "id": "ePyi9otSxP8D",
        "outputId": "26ce7e3f-f209-493f-e077-98e1cf23123d"
      },
      "source": [
        "#(5)\n",
        "print(2*(σ**4)/(n-1))"
      ],
      "execution_count": 6,
      "outputs": [
        {
          "output_type": "stream",
          "text": [
            "3.5555555555555554\n"
          ],
          "name": "stdout"
        }
      ]
    },
    {
      "cell_type": "code",
      "metadata": {
        "colab": {
          "base_uri": "https://localhost:8080/"
        },
        "id": "ClFMzm5MxTf4",
        "outputId": "d8094d55-0bd3-4850-9f90-94010cf70d25"
      },
      "source": [
        "#(6)\n",
        "print((n-1)/(n-3))"
      ],
      "execution_count": 7,
      "outputs": [
        {
          "output_type": "stream",
          "text": [
            "1.2857142857142858\n"
          ],
          "name": "stdout"
        }
      ]
    },
    {
      "cell_type": "code",
      "metadata": {
        "colab": {
          "base_uri": "https://localhost:8080/"
        },
        "id": "P0jr845mxVKi",
        "outputId": "07b08178-cb01-4fa1-ade9-0dd907e8e990"
      },
      "source": [
        "#(7)\n",
        "print(\"math.exp((-1/2)*((x-μ)/(σ/math.sqrt(n))))*1/(2*math.pi)*(1/(math.sqrt(1/n)*σ))\")"
      ],
      "execution_count": 8,
      "outputs": [
        {
          "output_type": "stream",
          "text": [
            "math.exp((-1/2)*((x-μ)/(σ/math.sqrt(n))))*1/(2*math.pi)*(1/(math.sqrt(1/n)*σ))\n"
          ],
          "name": "stdout"
        }
      ]
    },
    {
      "cell_type": "code",
      "metadata": {
        "colab": {
          "base_uri": "https://localhost:8080/"
        },
        "id": "U9dFCphixXVj",
        "outputId": "bfd0e7f8-d70f-44aa-f51a-92ed56f18ad9"
      },
      "source": [
        "#(10)\n",
        "import numpy as np\n",
        "from scipy.stats import norm\n",
        "one_sd = norm.cdf(σ, μ, σ) - norm.cdf(-σ, μ, σ)\n",
        "print(one_sd)"
      ],
      "execution_count": 9,
      "outputs": [
        {
          "output_type": "stream",
          "text": [
            "0.06657457218982255\n"
          ],
          "name": "stdout"
        }
      ]
    },
    {
      "cell_type": "code",
      "metadata": {
        "colab": {
          "base_uri": "https://localhost:8080/"
        },
        "id": "4qhfbVcYxupy",
        "outputId": "4ceeb43b-27c0-4358-b502-7cf573b97107"
      },
      "source": [
        "#(16)\n",
        "import statistics\n",
        "\n",
        "list =  [147.6, 185.9, 154.0, 147.2, 168.6, 146.8, 162.6, 164.1, 152.2, 171.8]\n",
        "meanvalue = statistics.mean(list)\n",
        "print(meanvalue)"
      ],
      "execution_count": 11,
      "outputs": [
        {
          "output_type": "stream",
          "text": [
            "160.07999999999998\n"
          ],
          "name": "stdout"
        }
      ]
    },
    {
      "cell_type": "code",
      "metadata": {
        "colab": {
          "base_uri": "https://localhost:8080/"
        },
        "id": "AEi-RsfOxx_O",
        "outputId": "2df54ab9-5ce5-4a69-e140-991bc03bd75f"
      },
      "source": [
        "#(17)\n",
        "arr = [147.6, 185.9, 154.0, 147.2, 168.6, 146.8, 162.6, 164.1, 152.2, 171.8]\n",
        "print(statistics.stdev(arr))"
      ],
      "execution_count": 12,
      "outputs": [
        {
          "output_type": "stream",
          "text": [
            "12.893564286108015\n"
          ],
          "name": "stdout"
        }
      ]
    },
    {
      "cell_type": "code",
      "metadata": {
        "colab": {
          "base_uri": "https://localhost:8080/"
        },
        "id": "1hOnj9U3xzSI",
        "outputId": "2c0be192-e4ba-4dd8-c540-eafebf331947"
      },
      "source": [
        "#(18)\n",
        "import statistics \n",
        "n=10\n",
        "μ2=mean+1.96*(statistics.stdev(arr)/math.sqrt(n))\n",
        "μ1=mean-1.96*(statistics.stdev(arr)/math.sqrt(n))\n",
        "print(μ1,μ2)"
      ],
      "execution_count": 14,
      "outputs": [
        {
          "output_type": "stream",
          "text": [
            "153.6234860608268 169.60651393917323\n"
          ],
          "name": "stdout"
        }
      ]
    },
    {
      "cell_type": "code",
      "metadata": {
        "colab": {
          "base_uri": "https://localhost:8080/"
        },
        "id": "KjpfSDwmx0yL",
        "outputId": "8baece2d-4011-467e-8bcf-64e2e6823976"
      },
      "source": [
        "#(19)\n",
        "\n",
        "list2 = [147.6, 185.9, 154.0, 147.2, 168.6, 146.8, 162.6, 164.1, 152.2, 171.8, 151.4, 152.0, 177.1, 155.1, 159.8, 188.0, 163.7, 178.6, 144.0, 161.8]\n",
        "mean = statistics.mean(list2)\n",
        "print(mean)\n",
        "arr2 = [147.6, 185.9, 154.0, 147.2, 168.6, 146.8, 162.6, 164.1, 152.2, 171.8, 151.4, 152.0, 177.1, 155.1, 159.8, 188.0, 163.7, 178.6, 144.0, 161.8]\n",
        "print(statistics.stdev(arr2))\n",
        "import statistics\n",
        "n=20\n",
        "μ202=mean+1.96*(statistics.stdev(arr2)/math.sqrt(n))\n",
        "μ201=mean-1.96*(statistics.stdev(arr2)/math.sqrt(n))\n",
        "print(μ201,μ202)"
      ],
      "execution_count": 13,
      "outputs": [
        {
          "output_type": "stream",
          "text": [
            "161.615\n",
            "13.181736767608673\n",
            "155.83784914311926 167.39215085688076\n"
          ],
          "name": "stdout"
        }
      ]
    },
    {
      "cell_type": "code",
      "metadata": {
        "colab": {
          "base_uri": "https://localhost:8080/"
        },
        "id": "dG3Ggqgjx2Rk",
        "outputId": "13a46b11-6cfc-4c5d-e597-17ab03d9bcbf"
      },
      "source": [
        "#(20)\n",
        "if(μ2-μ1>μ202-μ201):\n",
        "  print(μ202-μ201)\n",
        "else:\n",
        "  print(μ2-μ1)\n"
      ],
      "execution_count": 15,
      "outputs": [
        {
          "output_type": "stream",
          "text": [
            "11.554301713761504\n"
          ],
          "name": "stdout"
        }
      ]
    },
    {
      "cell_type": "code",
      "metadata": {
        "id": "d_ZgLqQAx2V0"
      },
      "source": [
        ""
      ],
      "execution_count": 15,
      "outputs": []
    }
  ]
}